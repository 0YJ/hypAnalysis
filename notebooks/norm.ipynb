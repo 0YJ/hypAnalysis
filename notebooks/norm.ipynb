{
 "cells": [
  {
   "cell_type": "code",
   "execution_count": 1,
   "metadata": {},
   "outputs": [],
   "source": [
    "import pandas as pd"
   ]
  },
  {
   "cell_type": "code",
   "execution_count": 2,
   "metadata": {},
   "outputs": [
    {
     "name": "stdout",
     "output_type": "stream",
     "text": [
      "              HGT21     BHN21     BUD21     FLW21     HRV21  WLT21     HYP21  \\\n",
      "Acc                                                                            \n",
      "HypID0031  0.022321  0.006951  0.019184  0.019244  0.018815    NaN  0.016238   \n",
      "HypID0032  0.012878  0.013962  0.021241  0.020269  0.021071    NaN  0.012261   \n",
      "HypID0033  0.012304  0.012647  0.019701  0.020022  0.021334    NaN  0.019161   \n",
      "HypID0034  0.017230  0.019729  0.021518  0.021665  0.022116    NaN  0.019161   \n",
      "HypID0035  0.007406  0.020263  0.019640  0.019815  0.019751    NaN  0.019161   \n",
      "\n",
      "              PYP21     YLD21     HGT22     BHN22     BUD22     FLW22  \\\n",
      "Acc                                                                     \n",
      "HypID0031  0.028955  0.018185  0.022795  0.029123  0.019336  0.019611   \n",
      "HypID0032  0.017260  0.011093  0.020653  0.021485  0.020405  0.020361   \n",
      "HypID0033  0.019013  0.018185  0.015350  0.015604  0.024800  0.023583   \n",
      "HypID0034  0.019013  0.018185  0.021029  0.019264  0.023695  0.024570   \n",
      "HypID0035  0.019013  0.018185  0.020826  0.020761  0.019666  0.019792   \n",
      "\n",
      "              HRV22  WLT22     HYP22     PYP22     YLD22       PLO  \n",
      "Acc                                                                 \n",
      "HypID0031  0.019690    0.0  0.019346  0.008055  0.052181  0.021053  \n",
      "HypID0032  0.020162    0.0  0.013665  0.015818  0.018291  0.021053  \n",
      "HypID0033  0.023841    0.0  0.019346  0.018348  0.017585  0.010526  \n",
      "HypID0034  0.024525    0.0  0.019346  0.018348  0.017585  0.031579  \n",
      "HypID0035  0.019690    0.0  0.019346  0.018348  0.017585  0.010526  \n"
     ]
    }
   ],
   "source": [
    "path = '../data/Phenotype_Master21_22.xlsx'\n",
    "data_A = pd.read_excel(path, sheet_name='A', index_col=0)\n",
    "\n",
    "data_A.fillna(data_A.median(), inplace=True)\n",
    "\n",
    "# getting relative amount\n",
    "normalized_data_A = data_A.div(data_A.sum(axis=0), axis=1)\n",
    "\n",
    "print(normalized_data_A.head())\n"
   ]
  }
 ],
 "metadata": {
  "kernelspec": {
   "display_name": "Python 3",
   "language": "python",
   "name": "python3"
  },
  "language_info": {
   "codemirror_mode": {
    "name": "ipython",
    "version": 3
   },
   "file_extension": ".py",
   "mimetype": "text/x-python",
   "name": "python",
   "nbconvert_exporter": "python",
   "pygments_lexer": "ipython3",
   "version": "3.10.13"
  }
 },
 "nbformat": 4,
 "nbformat_minor": 2
}
