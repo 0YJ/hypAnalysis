{
 "cells": [
  {
   "cell_type": "code",
   "execution_count": null,
   "id": "dc89762e-0094-41c5-8c48-dab927f293f3",
   "metadata": {},
   "outputs": [],
   "source": [
    "library(ggplot2)\n",
    "library(scatterplot3d)\n",
    "library(cluster)\n",
    "library(factoextra)\n",
    "library(ape)\n",
    "#install.packages(\"BiocManager\")\n",
    "#BiocManager::install(\"ggtree\")\n",
    "library(ggtree)\n",
    "library(treeio)\n",
    "#BiocManager::install(c(\"TreeAndLeaf\",\"RedeR\"))\n",
    "#install.packages(c(\"igraph\",\"RColorBrewer\"))\n",
    "library(TreeAndLeaf)\n",
    "library(RedeR)\n",
    "library(igraph)\n",
    "library(RColorBrewer)"
   ]
  },
  {
   "cell_type": "code",
   "execution_count": null,
   "id": "24591328-9675-4d43-bb7f-41563447e3b6",
   "metadata": {},
   "outputs": [],
   "source": [
    "data <- read.csv(\"\\\\\\\\qlb-fs01\\\\ZGOQ\\\\Zhang\\\\Daten\\\\Dokumente\\\\Desktop\\\\noacid.csv\", header=TRUE, row.names = 1)\n",
    "#data_withoutF2 <- subset(data, group != 'F2')\n",
    "#features_withoutF2 <- data_withoutF2[,c('alkanes', 'primary.alcohols', 'sec..alcohols', 'primary.fatty.acids')]\n",
    "#features_withoutF2\n",
    "summary(data)\n",
    "data\n",
    "#data_withoutF2\n",
    "group_colors <- c(\"F\" = \"green\", \"B\" = \"blue\",\"Y\" = \"orange\")\n",
    "#group_colors <- c(\"1\" = \"blue\",\"4\" = \"green\",\"6\" = \"red\",\"7\" = \"pink\",\"5\" = \"orange\")"
   ]
  },
  {
   "cell_type": "code",
   "execution_count": null,
   "id": "328ecae1-5bc9-49b3-a7f0-8145d2ba9e96",
   "metadata": {},
   "outputs": [],
   "source": [
    "#data_withoutF2$Color <- group_colors[data_withoutF2$group]\n",
    "data$Color <- group_colors[data$Group]\n",
    "#data_withoutF2\n",
    "#head(data_withoutF2)\n",
    "head(data)"
   ]
  },
  {
   "cell_type": "code",
   "execution_count": null,
   "id": "cb47e3a3-1d14-4e5d-9098-3333670b7736",
   "metadata": {},
   "outputs": [],
   "source": [
    "data_pca <- data[,c(\"C27Alkane\", \"C29Alkane\",  \"C31Alkane\",  \"C22Alcohol\", \"C28Alcohol\", \"C30Alcohol\", \"C32Alcohol\", \"C24secAlcohol\", \"C26secAlcohol\")]\n",
    "data_scaled <- scale(data_pca)\n",
    "\n",
    "pca_result <- prcomp(data_scaled, center=TRUE, scale. = TRUE)\n",
    "pca_data <- as.data.frame(pca_result$x)\n",
    "\n",
    "pca_data <- pca_data[, 1:2]\n",
    "names(pca_data) <- c('PC1','PC2')\n",
    "pca_data"
   ]
  },
  {
   "cell_type": "code",
   "execution_count": null,
   "id": "948e5a27-1683-458c-bfd1-146af8d37d65",
   "metadata": {},
   "outputs": [],
   "source": [
    "j <- pca_result$x[,1:9]\n",
    "j\n",
    "\n",
    "dist(j)\n",
    "dist_matrix <- dist(j)\n",
    "dist_matrix"
   ]
  },
  {
   "cell_type": "code",
   "execution_count": null,
   "id": "c301d263-fe4d-46a7-9ecb-565cf7ec084a",
   "metadata": {},
   "outputs": [],
   "source": [
    "nj_tree <- nj(dist_matrix)\n",
    "plot(nj_tree, show.tip.label = TRUE)\n",
    "plot(nj_tree, \"unrooted\", main=\"NJ\")\n",
    "ggtree(nj_tree, branch.length = \"none\", layout= \"circular\") + geom_tiplab(size=4, color = \"seagreen\")  + \n",
    "    geom_hilight(node = 22, fill = \"orange\", alpha=0.6)+geom_hilight(node = 26, fill = \"pink\", alpha=0.6)+geom_hilight(node = 33, fill = \"blue\", alpha=0.6) +\n",
    "    geom_strip(taxa1 = \"06_02\", taxa2 = \"07_05\", \n",
    "               label = \"cluster 1\", color = \"steelblue\",\n",
    "               offset = 2.5, barsize = 2,\n",
    "               hjust = \"center\", angle = 30, \n",
    "               extend = 0.5, offset.text = 2, \n",
    "               align = FALSE) + \n",
    "    geom_strip(taxa1 = \"07_07\", taxa2 = \"07_03\", \n",
    "               label = \"cluster 2\", color = \"red\",\n",
    "               offset = 2.5, barsize = 2,\n",
    "               hjust = \"center\", angle = 30, \n",
    "               extend = 0.5, offset.text = 2, \n",
    "               align = FALSE) + geom_text2(aes(label=node), size=1.5, color=\"red\")"
   ]
  },
  {
   "cell_type": "code",
   "execution_count": null,
   "id": "a3ff0a06-d768-476f-9dc7-818176b62985",
   "metadata": {},
   "outputs": [],
   "source": [
    "fviz_pca_ind(pca_result, geom.ind = \"point\", col.ind = data$Group, palette = \"jco\", addEllipses = TRUE)"
   ]
  },
  {
   "cell_type": "code",
   "execution_count": null,
   "id": "8316174e-47e8-4b88-b3a1-43b306c55e0b",
   "metadata": {},
   "outputs": [],
   "source": [
    "fviz_pca_var(pca_result, col.var=\"contrib\",\n",
    "             gradient.cols = c(\"#00AFBB\", \"#E7B800\", \"#FC4E07\"),\n",
    "             repel = TRUE # Avoid text overlapping\n",
    ")"
   ]
  },
  {
   "cell_type": "code",
   "execution_count": null,
   "id": "964c9d8d-2a05-4e8d-98ad-9ed5cd7a85cb",
   "metadata": {},
   "outputs": [],
   "source": [
    "fviz_pca_ind(pca_result, col.ind = \"cos2\", \n",
    "             gradient.cols = c(\"#00AFBB\", \"#E7B800\", \"#FC4E07\"),\n",
    "             repel = TRUE # Avoid text overlapping (slow if many points)\n",
    ")\n",
    "\n",
    "#library(\"FactoMineR\")\n",
    "#res.pca <- PCA(data,  graph = FALSE)\n",
    "#get_eig(res.pca)\n",
    "#library(FactoMineR)\n",
    "#res.mca <- MCA(data_withoutF2, quanti.sup = 1:2,\n",
    "#               quali.sup = 3:4, graph=FALSE)\n",
    "#res.mca\n",
    "# Extract the results for variable categories\n",
    "#get_mca_var(res.mca)\n",
    "\n",
    "# Extract the results for individuals\n",
    "#get_mca_ind(res.mca)\n",
    "#fviz_contrib(res.mca, choice =\"var\", axes = 1)\n",
    "#fviz_contrib(res.mca, choice =\"ind\", axes = 1, top = 20)\n",
    "#fviz_mca_biplot(res.mca, repel = TRUE)\n",
    "#data_withoutF2\n",
    "#grp <- as.factor(data_withoutF2[, \"group\"])\n",
    "#grp\n",
    "#fviz_mca_ind(res.mca,  habillage = grp,\n",
    "#             addEllipses = TRUE, repel = TRUE)"
   ]
  }
 ],
 "metadata": {
  "kernelspec": {
   "display_name": "R",
   "language": "R",
   "name": "ir"
  },
  "language_info": {
   "codemirror_mode": "r",
   "file_extension": ".r",
   "mimetype": "text/x-r-source",
   "name": "R",
   "pygments_lexer": "r",
   "version": "4.3.1"
  }
 },
 "nbformat": 4,
 "nbformat_minor": 5
}
